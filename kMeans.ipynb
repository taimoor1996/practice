{
 "cells": [
  {
   "cell_type": "code",
   "execution_count": 1,
   "metadata": {},
   "outputs": [],
   "source": [
    "import numpy as np\n",
    "import pandas as pd\n",
    "from numpy.random import seed\n",
    "from numpy.random import randint\n",
    "from sklearn import preprocessing\n",
    "from kmodes.kprototypes import KPrototypes\n",
    "import matplotlib.pyplot as plt"
   ]
  },
  {
   "cell_type": "code",
   "execution_count": 2,
   "metadata": {},
   "outputs": [
    {
     "name": "stdout",
     "output_type": "stream",
     "text": [
      "        Number    City  Gender  Age    Income Illness\n",
      "0            1  Dallas    Male   41   40367.0      No\n",
      "1            2  Dallas    Male   54   45084.0      No\n",
      "2            3  Dallas    Male   42   52483.0      No\n",
      "3            4  Dallas    Male   40   40941.0      No\n",
      "4            5  Dallas    Male   46   50289.0      No\n",
      "...        ...     ...     ...  ...       ...     ...\n",
      "149995  149996  Austin    Male   48   93669.0      No\n",
      "149996  149997  Austin    Male   25   96748.0      No\n",
      "149997  149998  Austin    Male   26  111885.0      No\n",
      "149998  149999  Austin    Male   25  111878.0      No\n",
      "149999  150000  Austin  Female   37   87251.0      No\n",
      "\n",
      "[150000 rows x 6 columns]\n"
     ]
    }
   ],
   "source": [
    "data= pd.read_csv(\"toy_dataset.csv\")\n",
    "print(data)"
   ]
  },
  {
   "cell_type": "code",
   "execution_count": 3,
   "metadata": {},
   "outputs": [],
   "source": [
    "dataProcessed= data.copy()"
   ]
  },
  {
   "cell_type": "code",
   "execution_count": 4,
   "metadata": {},
   "outputs": [],
   "source": [
    "class KMeans:\n",
    "    \n",
    "    def __init__(self , _noOfClusters):\n",
    "        self.K= _noOfClusters\n",
    "        self.centroids= None\n",
    "        self.C= None\n",
    "        self.cost= None\n",
    "        \n",
    "        \n",
    "    def fit(self , X):\n",
    "        \n",
    "        #Random Initialization\n",
    "        seed(1)\n",
    "        randInd= randint(0 , X.shape[0], self.K)\n",
    "        \n",
    "        self.centroids= np.zeros((self.K , X.shape[1]))\n",
    "        \n",
    "        for count in range(0 , self.K):\n",
    "            \n",
    "            self.centroids[count]= X[randInd[count] , :]\n",
    "        \n",
    "        \n",
    "        #Assign points to centroids\n",
    "        self.C= np.zeros((X.shape[0] , 1) , dtype=int)\n",
    "        differences= np.zeros((self.K))\n",
    "        \n",
    "        \n",
    "        for count in range(0 , X.shape[0]):\n",
    "            \n",
    "            for centroidInd in range(0 , self.K):\n",
    "                \n",
    "                differences[centroidInd]= np.sqrt(np.sum((X[count , :] - self.centroids[centroidInd , :]) ** 2 , axis=0))\n",
    " \n",
    "                    \n",
    "            self.C[count]= np.argmin(differences)\n",
    "        \n",
    "            \n",
    "        #Update centroids\n",
    "        for centroidNo in range(0 , self.K):\n",
    "                        \n",
    "            ind= self.C == centroidNo \n",
    "            pointsAssigned= X[ind[: , 0] , :]\n",
    "            self.centroids[centroidNo]= np.sum(pointsAssigned , axis=0) / len(ind)\n",
    "            \n",
    "        cost= self.calculateCost(X)\n",
    "        \n",
    "        return self.centroids , cost \n",
    "                                                                                                                                                                    \n",
    "    \n",
    "    def calculateCost(self , X):\n",
    "        \n",
    "        cost= 0.0\n",
    "        m= X.shape[0]\n",
    "        \n",
    "        for exampleNo in range(0 , m):\n",
    "            \n",
    "            ind= self.C[exampleNo , 0]\n",
    "            cost+= np.sqrt(np.sum((X[exampleNo , :] - self.centroids[ind , :]) ** 2 , axis=0))\n",
    "                \n",
    "        cost/= m\n",
    "        \n",
    "        self.cost= cost\n",
    "        \n",
    "        return cost\n",
    "    \n",
    "    def classify(self , data):\n",
    "        \n",
    "        labels= self.C\n",
    "        \n",
    "        data[\"labels\"]= labels.flatten().tolist()\n",
    "        \n",
    "        return"
   ]
  },
  {
   "cell_type": "code",
   "execution_count": 5,
   "metadata": {},
   "outputs": [],
   "source": [
    "dataProcessed= dataProcessed.replace(to_replace=\"Male\" , value=1)\n",
    "dataProcessed= dataProcessed.replace(to_replace=\"Female\" , value=0)\n",
    "\n",
    "dataProcessed= dataProcessed.replace(to_replace=\"Yes\" , value=1)\n",
    "dataProcessed= dataProcessed.replace(to_replace=\"No\" , value=0)\n",
    "\n",
    "dataProcessed['City']= 0"
   ]
  },
  {
   "cell_type": "code",
   "execution_count": 6,
   "metadata": {},
   "outputs": [
    {
     "name": "stdout",
     "output_type": "stream",
     "text": [
      "[[0.00000e+00 1.00000e+00 4.10000e+01 4.03670e+04 0.00000e+00]\n",
      " [0.00000e+00 1.00000e+00 5.40000e+01 4.50840e+04 0.00000e+00]\n",
      " [0.00000e+00 1.00000e+00 4.20000e+01 5.24830e+04 0.00000e+00]\n",
      " ...\n",
      " [0.00000e+00 1.00000e+00 2.60000e+01 1.11885e+05 0.00000e+00]\n",
      " [0.00000e+00 1.00000e+00 2.50000e+01 1.11878e+05 0.00000e+00]\n",
      " [0.00000e+00 0.00000e+00 3.70000e+01 8.72510e+04 0.00000e+00]]\n",
      "(150000, 5)\n"
     ]
    }
   ],
   "source": [
    "X= dataProcessed[[\"City\" , \"Gender\" , \"Age\" , \"Income\" , \"Illness\"]].to_numpy()\n",
    "print(X)\n",
    "print(X.shape)"
   ]
  },
  {
   "cell_type": "code",
   "execution_count": 7,
   "metadata": {},
   "outputs": [
    {
     "name": "stdout",
     "output_type": "stream",
     "text": [
      "[[0.00000000e+00 7.79866667e-02 9.65390667e+00 1.66488748e+04\n",
      "  1.75133333e-02]\n",
      " [0.00000000e+00 6.18866667e-02 5.63488667e+00 5.45305133e+03\n",
      "  1.01800000e-02]\n",
      " [0.00000000e+00 4.18793333e-01 2.96614067e+01 6.91508722e+04\n",
      "  5.32333333e-02]] 41361.87168117395\n",
      "        Number    City  Gender  Age    Income Illness  labels\n",
      "0            1  Dallas    Male   41   40367.0      No       1\n",
      "1            2  Dallas    Male   54   45084.0      No       1\n",
      "2            3  Dallas    Male   42   52483.0      No       1\n",
      "3            4  Dallas    Male   40   40941.0      No       1\n",
      "4            5  Dallas    Male   46   50289.0      No       1\n",
      "...        ...     ...     ...  ...       ...     ...     ...\n",
      "149995  149996  Austin    Male   48   93669.0      No       2\n",
      "149996  149997  Austin    Male   25   96748.0      No       2\n",
      "149997  149998  Austin    Male   26  111885.0      No       2\n",
      "149998  149999  Austin    Male   25  111878.0      No       2\n",
      "149999  150000  Austin  Female   37   87251.0      No       2\n",
      "\n",
      "[150000 rows x 7 columns]\n"
     ]
    }
   ],
   "source": [
    "kmeans= KMeans(3)\n",
    "centroids, cost= kmeans.fit(X)\n",
    "print(centroids , cost)\n",
    "kmeans.classify(data)\n",
    "\n",
    "print(data)\n"
   ]
  },
  {
   "cell_type": "code",
   "execution_count": 14,
   "metadata": {},
   "outputs": [
    {
     "data": {
      "image/png": "[encoded data removed]",
      "text/plain": [
       "<Figure size 432x288 with 1 Axes>"
      ]
     },
     "metadata": {
      "needs_background": "light"
     },
     "output_type": "display_data"
    }
   ],
   "source": [
    "cost= []\n",
    "\n",
    "for k in range(2 , 10):\n",
    "    kmeans= KMeans(k)\n",
    "    centroids , kCost= kmeans.fit(X)\n",
    "    cost.append(kCost)\n",
    "\n",
    "\n",
    "kValues= range(2 , 10)\n",
    "\n",
    "plt.plot(kValues , cost)\n",
    "plt.xlabel('K')\n",
    "plt.ylabel('Cost')\n",
    "plt.show()"
   ]
  },
  {
   "cell_type": "code",
   "execution_count": null,
   "metadata": {},
   "outputs": [],
   "source": [
    "kmeans= KMeans(3)\n",
    "centroids, cost= kmeans.fit(X)\n",
    "print(centroids , cost)\n",
    "kmeans.classify(data)\n",
    "\n",
    "print(data)"
   ]
  },
  {
   "cell_type": "code",
   "execution_count": 10,
   "metadata": {},
   "outputs": [
    {
     "data": {
      "image/png": "[encoded data removed]",
      "text/plain": [
       "<Figure size 432x288 with 1 Axes>"
      ]
     },
     "metadata": {
      "needs_background": "light"
     },
     "output_type": "display_data"
    }
   ],
   "source": [
    "cluster0= data.loc[lambda df: df['labels'] == 0, :]\n",
    "cluster1= data.loc[lambda df: df['labels'] == 1, :]\n",
    "cluster2= data.loc[lambda df: df['labels'] == 2, :]\n",
    "\n",
    "plt.scatter(cluster0.iloc[: , 3], cluster0.iloc[: , 4], color= 'red')\n",
    "plt.scatter(cluster1.iloc[: , 3], cluster1.iloc[: , 4], color= 'blue')\n",
    "plt.scatter(cluster2.iloc[: , 3], cluster2.iloc[: , 4], color= 'green')\n",
    "\n",
    "plt.show()"
   ]
  },
  {
   "cell_type": "code",
   "execution_count": 7,
   "metadata": {},
   "outputs": [],
   "source": [
    "kproto=KPrototypes(n_clusters=2)\n",
    "clusters= kproto.fit_predict(dataProcessed , categorical=[1,2,5]) \n",
    "\n",
    "labels= pd.DataFrame(clusters)\n",
    "labeledData= pd.concat((data,labels) , axis=1)\n",
    "labeledData= labeledData.rename({0: 'labels'} , axis=1)"
   ]
  },
  {
   "cell_type": "code",
   "execution_count": 5,
   "metadata": {},
   "outputs": [
    {
     "name": "stdout",
     "output_type": "stream",
     "text": [
      "        Number    City  Gender  Age    Income Illness  labels\n",
      "0            1  Dallas    Male   41   40367.0      No       0\n",
      "1            2  Dallas    Male   54   45084.0      No       0\n",
      "2            3  Dallas    Male   42   52483.0      No       0\n",
      "3            4  Dallas    Male   40   40941.0      No       0\n",
      "4            5  Dallas    Male   46   50289.0      No       0\n",
      "...        ...     ...     ...  ...       ...     ...     ...\n",
      "149995  149996  Austin    Male   48   93669.0      No       1\n",
      "149996  149997  Austin    Male   25   96748.0      No       1\n",
      "149997  149998  Austin    Male   26  111885.0      No       1\n",
      "149998  149999  Austin    Male   25  111878.0      No       1\n",
      "149999  150000  Austin  Female   37   87251.0      No       1\n",
      "\n",
      "[150000 rows x 7 columns]\n"
     ]
    }
   ],
   "source": [
    "print(labeledData)"
   ]
  },
  {
   "cell_type": "code",
   "execution_count": 10,
   "metadata": {},
   "outputs": [
    {
     "data": {
      "text/plain": [
       "Text(0, 0.5, 'Income')"
      ]
     },
     "execution_count": 10,
     "metadata": {},
     "output_type": "execute_result"
    },
    {
     "data": {
      "image/png": "[encoded data removed]",
      "text/plain": [
       "<Figure size 432x288 with 1 Axes>"
      ]
     },
     "metadata": {
      "needs_background": "light"
     },
     "output_type": "display_data"
    }
   ],
   "source": [
    "label0Age= labeledData.loc[lambda labeledData: labeledData['labels'] == 0 , 'Age']\n",
    "label0Income= labeledData.loc[lambda labeledData: labeledData['labels'] == 0 , 'Income']\n",
    "\n",
    "label1Age= labeledData.loc[lambda labeledData: labeledData['labels'] == 1 , 'Age']\n",
    "label1Income= labeledData.loc[lambda labeledData: labeledData['labels'] == 1 , 'Income']\n",
    "\n",
    "plt.scatter(label0Age , label0Income, color='red')\n",
    "plt.scatter(label1Age, label1Income, color= 'blue')\n",
    "plt.xlabel(\"Age\")\n",
    "plt.ylabel(\"Income\")\n",
    "#plt.scatter()"
   ]
  },
  {
   "cell_type": "code",
   "execution_count": null,
   "metadata": {},
   "outputs": [],
   "source": []
  }
 ],
 "metadata": {
  "kernelspec": {
   "display_name": "Python 3",
   "language": "python",
   "name": "python3"
  },
  "language_info": {
   "codemirror_mode": {
    "name": "ipython",
    "version": 3
   },
   "file_extension": ".py",
   "mimetype": "text/x-python",
   "name": "python",
   "nbconvert_exporter": "python",
   "pygments_lexer": "ipython3",
   "version": "3.7.6"
  }
 },
 "nbformat": 4,
 "nbformat_minor": 4
}
